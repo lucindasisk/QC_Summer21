{
 "cells": [
  {
   "cell_type": "code",
   "execution_count": 2,
   "id": "70867cf3",
   "metadata": {},
   "outputs": [],
   "source": [
    "import os\n",
    "%matplotlib inline\n",
    "import matplotlib.pyplot as plt\n",
    "import matplotlib.image as mpimg\n",
    "from fpdf import FPDF\n",
    "import numpy as np\n",
    "import nipype\n",
    "import nipype.interfaces.fsl as fsl"
   ]
  },
  {
   "cell_type": "code",
   "execution_count": 3,
   "id": "6950a1f8",
   "metadata": {},
   "outputs": [],
   "source": [
    "#go to data\n",
    "mri_dir = '/gpfs/milgram/pi/gee_dylan/candlab/data/mri/bids_recon/shapes'\n",
    "TW1_image_location = '/home/gg558/TW1_images/'\n",
    "TW2_image_location = '/home/gg558/TW2_images/'\n",
    "mni_dir = '/gpfs/milgram/pi/gee_dylan/candlab/atlases/MNI152_T1_2mm_brain.nii.gz'"
   ]
  },
  {
   "cell_type": "code",
   "execution_count": null,
   "id": "a7befb5a",
   "metadata": {},
   "outputs": [],
   "source": [
    "#create two PDFs\n",
    "T1w_pdf = FPDF()\n",
    "T1w_pdf.add_page()\n",
    "\n",
    "T2w_pdf = FPDF()\n",
    "T2w_pdf.add_page()\n",
    "\n",
    "#go through every subject\n",
    "for file in os.listdir(mri_dir):\n",
    "    #for every subject folder, go into the session folder\n",
    "    if file.startswith('sub'):\n",
    "        subject_ID = os.fsdecode(file)\n",
    "        subject_dir = mri_dir + '/' + subject_ID + '/ses-shapesV1/anat/'\n",
    "    \n",
    "        #go through every file within the session folder\n",
    "        for subfile in os.listdir(subject_dir):\n",
    "            data_type = os.fsdecode(subfile)\n",
    "            data_dir = subject_dir + '/' + subfile\n",
    "        \n",
    "            #get to the FA data\n",
    "            if data_dir.endswith('T1w.nii.gz') or data_dir.endswith('T2w.nii.gz'):\n",
    "                #reorient anats to MNI space before slicing\n",
    "                aw = fsl.ApplyWarp()\n",
    "                aw.inputs.in_file = data_dir\n",
    "                aw.inputs.ref_file = mni_dir\n",
    "                aw.inputs.out_file = data_dir\n",
    "                reoriented_image = aw.run() \n",
    "                \n",
    "                #do the slicer \n",
    "                slicer = fsl.Slicer()\n",
    "                slicer.inputs.in_file = data_dir\n",
    "                slicer.inputs.middle_slices = True\n",
    "                slicer.inputs.out_file = subject_ID + '.png'\n",
    "                res = slicer.run() \n",
    "                slicer.inputs.scaling = 100\n",
    "\n",
    "                #save as a PNG\n",
    "                img = mpimg.imread(subject_ID + '.png')\n",
    "                imgplot = plt.imshow(img)\n",
    "                fig1 = plt.gcf()\n",
    "                plt.axis('off')\n",
    "                plt.title(\"Subject\" + ' ' + subject_ID.split('-',1)[1])\n",
    "                \n",
    "                #save PNG files to correct folder\n",
    "                if data_dir.endswith('T1w.nii.gz'):\n",
    "                    os.chdir(TW1_image_location)\n",
    "                    plt.savefig(TW1_image_location + subject_ID + '.png', dpi = 1200)\n",
    "                if data_dir.endswith('T2w.nii.gz'):\n",
    "                    os.chdir(TW2_image_location)\n",
    "                    plt.savefig(TW2_image_location + subject_ID + '.png', dpi = 1200)\n",
    "                \n",
    "                plt.close()\n",
    "\n",
    "                #add PNG to correct PDF file based on T1 or T2\n",
    "                if data_dir.endswith('T1w.nii.gz'):\n",
    "                    T1w_pdf.image(TW1_image_location + subject_ID + '.png')\n",
    "                if data_dir.endswith('T2w.nii.gz'):\n",
    "                    T2w_pdf.image(TW2_image_location + subject_ID + '.png')\n",
    "            \n",
    "            #continue on with the next iteration\n",
    "            else:\n",
    "                continue \n",
    "\n",
    "#save both PDFs of data\n",
    "T1w_pdf.output('/home/gg558/Anat_T1w_data.pdf')\n",
    "T2w_pdf.output('/home/gg558/Anat_T2w_data.pdf')"
   ]
  },
  {
   "cell_type": "code",
   "execution_count": null,
   "id": "fb4a0681",
   "metadata": {},
   "outputs": [],
   "source": []
  }
 ],
 "metadata": {
  "kernelspec": {
   "display_name": "Python 3",
   "language": "python",
   "name": "python3"
  },
  "language_info": {
   "codemirror_mode": {
    "name": "ipython",
    "version": 3
   },
   "file_extension": ".py",
   "mimetype": "text/x-python",
   "name": "python",
   "nbconvert_exporter": "python",
   "pygments_lexer": "ipython3",
   "version": "3.6.13"
  }
 },
 "nbformat": 4,
 "nbformat_minor": 5
}
